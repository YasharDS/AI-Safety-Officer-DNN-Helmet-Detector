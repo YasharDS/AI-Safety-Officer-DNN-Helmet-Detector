{
 "cells": [
  {
   "cell_type": "code",
   "execution_count": 18,
   "id": "f1f89108-a4ed-4c51-8dfc-fed5fc0e45b4",
   "metadata": {},
   "outputs": [],
   "source": [
    "import glob \n",
    "import cv2\n",
    "import sys\n",
    "import os\n",
    "from PIL import Image\n",
    "\n",
    "def detect_face(img):\n",
    "    gray = cv2.cvtColor(img, cv2.COLOR_BGR2GRAY)\n",
    "    face_cascade = cv2.CascadeClassifier('haarcascade_frontalface_default.xml')\n",
    "    faces = face_cascade.detectMultiScale(gray, scaleFactor=1.13, minNeighbors=3)#original scale factor =1.2 , neigbors 5\n",
    "    \n",
    "    return faces\n",
    "\n",
    "filename = (\"C:\\\\Users\\Vitaliy Yashchenko\\\\Desktop\\\\OpenCV Face recognition\\\\!!!\\\\dataset\\\\hattocrop\")\n",
    "\n",
    "for img in glob.glob(filename+'/*.*'):\n",
    "    \n",
    "    var_img = cv2.imread(img)\n",
    "   \n",
    "    face = detect_face(var_img)\n",
    "#     print(face)\n",
    "    if (len(face) == 0):\n",
    "        continue\n",
    "    for(ex, ey, ew, eh) in face:\n",
    "        eh=eh+10\n",
    "        ew=ew+10\n",
    "        ex=ex\n",
    "        ey=ey-10\n",
    "        crop_image = var_img[ey:eh+ey, ex:ex+ew]\n",
    "#         cv2.imshow(\"cropped\", crop_image)\n",
    "#         cv2.waitKey(0)  \n",
    "    cv2.imwrite(os.path.join(\"outputs/\",str(img)),crop_image)"
   ]
  },
  {
   "cell_type": "code",
   "execution_count": null,
   "id": "8dd280dd-9272-4e8f-83b3-2259fd4f97ff",
   "metadata": {},
   "outputs": [],
   "source": []
  },
  {
   "cell_type": "code",
   "execution_count": null,
   "id": "764baed8-698c-4fd8-9881-fc05e3ac268f",
   "metadata": {},
   "outputs": [],
   "source": []
  }
 ],
 "metadata": {
  "kernelspec": {
   "display_name": "Python 3",
   "language": "python",
   "name": "python3"
  },
  "language_info": {
   "codemirror_mode": {
    "name": "ipython",
    "version": 3
   },
   "file_extension": ".py",
   "mimetype": "text/x-python",
   "name": "python",
   "nbconvert_exporter": "python",
   "pygments_lexer": "ipython3",
   "version": "3.8.8"
  }
 },
 "nbformat": 4,
 "nbformat_minor": 5
}
